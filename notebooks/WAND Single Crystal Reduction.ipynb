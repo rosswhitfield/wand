{
 "cells": [
  {
   "cell_type": "markdown",
   "metadata": {},
   "source": [
    "#### Import required packages"
   ]
  },
  {
   "cell_type": "code",
   "execution_count": 1,
   "metadata": {},
   "outputs": [],
   "source": [
    "%matplotlib inline\n",
    "from mantid.simpleapi import *\n",
    "import matplotlib.pyplot as plt\n",
    "from mantid import plots"
   ]
  },
  {
   "cell_type": "markdown",
   "metadata": {},
   "source": [
    "Set a larger default figure size"
   ]
  },
  {
   "cell_type": "code",
   "execution_count": 2,
   "metadata": {},
   "outputs": [],
   "source": [
    "plt.rcParams['figure.figsize'] = [10, 8]"
   ]
  },
  {
   "cell_type": "markdown",
   "metadata": {},
   "source": [
    "#### Set IPTS number"
   ]
  },
  {
   "cell_type": "code",
   "execution_count": null,
   "metadata": {},
   "outputs": [],
   "source": [
    "ipts = 7776"
   ]
  },
  {
   "cell_type": "markdown",
   "metadata": {},
   "source": [
    "#### Load data and vanadium\n",
    "###### Data is loaded into a MDHistoWorkspace that have dimensions corresponding to x pixels, y pixels and sample rotation"
   ]
  },
  {
   "cell_type": "code",
   "execution_count": null,
   "metadata": {},
   "outputs": [],
   "source": [
    "LoadWANDSCD(IPTS=ipts, RunNumbers=26509, OutputWorkspace='norm',Grouping='4x4') # Vanadium\n",
    "LoadWANDSCD(IPTS=ipts, RunNumbers='26640-27944', OutputWorkspace='data',Grouping='4x4')"
   ]
  },
  {
   "cell_type": "markdown",
   "metadata": {},
   "source": [
    "##### Integrate out a slice of data in the y (verticle) pixels. Only 2D can be plotted using `mantid` projections."
   ]
  },
  {
   "cell_type": "code",
   "execution_count": null,
   "metadata": {},
   "outputs": [],
   "source": [
    "data_slice = IntegrateMDHistoWorkspace('data',P1Bin=[60,69])"
   ]
  },
  {
   "cell_type": "markdown",
   "metadata": {},
   "source": [
    "#### plot the data slice"
   ]
  },
  {
   "cell_type": "code",
   "execution_count": null,
   "metadata": {},
   "outputs": [],
   "source": [
    "fig, ax = plt.subplots(subplot_kw={'projection':'mantid'})\n",
    "c = ax.pcolormesh(data_slice, vmax=10)\n",
    "cbar=fig.colorbar(c)\n",
    "cbar.set_label('Intensity (arb. units)')"
   ]
  },
  {
   "cell_type": "markdown",
   "metadata": {},
   "source": [
    "#### Convert the data to Q space"
   ]
  },
  {
   "cell_type": "code",
   "execution_count": null,
   "metadata": {},
   "outputs": [],
   "source": [
    "ConvertWANDSCDtoQ(InputWorkspace='data',\n",
    "                  NormalisationWorkspace='norm',\n",
    "                  OutputWorkspace='Q',\n",
    "                  BinningDim1='-1,1,1')"
   ]
  },
  {
   "cell_type": "code",
   "execution_count": null,
   "metadata": {},
   "outputs": [],
   "source": [
    "fig, ax = plt.subplots(subplot_kw={'projection':'mantid'})\n",
    "c = ax.pcolormesh(mtd['Q'], vmax=1)\n",
    "cbar=fig.colorbar(c)\n",
    "cbar.set_label('Intensity (arb. units)')"
   ]
  },
  {
   "cell_type": "markdown",
   "metadata": {},
   "source": [
    "#### Set UB and convert to HKL\n",
    "\n",
    "If you used the sample alignment tool then the UB will already be on the workspace and you dont need to set it"
   ]
  },
  {
   "cell_type": "code",
   "execution_count": null,
   "metadata": {},
   "outputs": [],
   "source": [
    "SetUB('data', UB='0,0.1770619741,-0.00927942487,0.177304965,0,0,0,-0.00927942487,-0.177061974')\n",
    "ConvertWANDSCDtoQ(InputWorkspace='data',\n",
    "                  NormalisationWorkspace='norm',\n",
    "                  OutputWorkspace='HKL',\n",
    "                  Frame='HKL',\n",
    "                  BinningDim0='-1,1,1',\n",
    "                  BinningDim1='-2.02,7.02,226',\n",
    "                  BinningDim2='-6.52,2.52,226')"
   ]
  },
  {
   "cell_type": "code",
   "execution_count": null,
   "metadata": {},
   "outputs": [],
   "source": [
    "fig, ax = plt.subplots(subplot_kw={'projection':'mantid'})\n",
    "c = ax.pcolormesh(mtd['HKL'], vmax=1)\n",
    "cbar=fig.colorbar(c)\n",
    "cbar.set_label('Intensity (arb. units)')"
   ]
  },
  {
   "cell_type": "markdown",
   "metadata": {},
   "source": [
    "## See also\n",
    "\n",
    "* [LoadWANDSCD](http://docs.mantidproject.org/nightly/algorithms/LoadWANDSCD.html)\n",
    "* [ConvertWANDSCDtoQ](http://docs.mantidproject.org/nightly/algorithms/ConvertWANDSCDtoQ.html)\n",
    "* [IntegrateMDHistoWorkspace](http://docs.mantidproject.org/nightly/algorithms/IntegrateMDHistoWorkspace.html)\n",
    "* [Introduction to Matplotlib in Mantid](http://docs.mantidproject.org/nightly/plotting/)\n",
    "* [mantid.plots](http://docs.mantidproject.org/nightly/api/python/mantid/plots/)"
   ]
  }
 ],
 "metadata": {
  "kernelspec": {
   "display_name": "Python 3",
   "language": "python",
   "name": "python3"
  },
  "language_info": {
   "codemirror_mode": {
    "name": "ipython",
    "version": 3
   },
   "file_extension": ".py",
   "mimetype": "text/x-python",
   "name": "python",
   "nbconvert_exporter": "python",
   "pygments_lexer": "ipython3",
   "version": "3.6.5"
  }
 },
 "nbformat": 4,
 "nbformat_minor": 2
}
