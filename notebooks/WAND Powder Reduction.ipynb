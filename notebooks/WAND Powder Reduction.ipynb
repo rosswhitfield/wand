{
 "cells": [
  {
   "cell_type": "markdown",
   "metadata": {},
   "source": [
    "#### Import required packages"
   ]
  },
  {
   "cell_type": "code",
   "execution_count": null,
   "metadata": {},
   "outputs": [],
   "source": [
    "%matplotlib inline\n",
    "from mantid.simpleapi import *\n",
    "import matplotlib.pyplot as plt\n",
    "from mantid import plots\n",
    "plt.rcParams['figure.figsize'] = [12, 6]"
   ]
  },
  {
   "cell_type": "markdown",
   "metadata": {},
   "source": [
    "#### Set IPTS number"
   ]
  },
  {
   "cell_type": "code",
   "execution_count": null,
   "metadata": {},
   "outputs": [],
   "source": [
    "IPTS = 7776"
   ]
  },
  {
   "cell_type": "markdown",
   "metadata": {},
   "source": [
    "#### Load data (silicon), run number 26506"
   ]
  },
  {
   "cell_type": "code",
   "execution_count": null,
   "metadata": {},
   "outputs": [],
   "source": [
    "data = LoadWAND(IPTS=IPTS, RunNumbers=26506)"
   ]
  },
  {
   "cell_type": "markdown",
   "metadata": {},
   "source": [
    "alternatively provide filename"
   ]
  },
  {
   "cell_type": "code",
   "execution_count": null,
   "metadata": {},
   "outputs": [],
   "source": [
    "data = LoadWAND('/HFIR/HB2C/IPTS-7776/nexus/HB2C_26506.nxs.h5')"
   ]
  },
  {
   "cell_type": "markdown",
   "metadata": {},
   "source": [
    "#### Load vanadium"
   ]
  },
  {
   "cell_type": "code",
   "execution_count": null,
   "metadata": {},
   "outputs": [],
   "source": [
    "vanadium = LoadWAND(IPTS=IPTS, RunNumbers=26509)"
   ]
  },
  {
   "cell_type": "markdown",
   "metadata": {},
   "source": [
    "#### Run WANDPowderReduction algorithm"
   ]
  },
  {
   "cell_type": "code",
   "execution_count": null,
   "metadata": {},
   "outputs": [],
   "source": [
    "WANDPowderReduction(InputWorkspace=data,\n",
    "                    CalibrationWorkspace=vanadium,\n",
    "                    Target='Theta',\n",
    "                    NumberBins=1000,\n",
    "                    OutputWorkspace='silicon_powder')"
   ]
  },
  {
   "cell_type": "markdown",
   "metadata": {},
   "source": [
    "#### Plot results using matplotlib"
   ]
  },
  {
   "cell_type": "code",
   "execution_count": null,
   "metadata": {},
   "outputs": [],
   "source": [
    "fig, ax = plt.subplots(subplot_kw={'projection':'mantid'})\n",
    "ax.plot(mtd['silicon_powder'])"
   ]
  },
  {
   "cell_type": "markdown",
   "metadata": {},
   "source": [
    "#### Silicon powder to Q over limited range"
   ]
  },
  {
   "cell_type": "code",
   "execution_count": null,
   "metadata": {},
   "outputs": [],
   "source": [
    "WANDPowderReduction(InputWorkspace=data,\n",
    "                    CalibrationWorkspace=vanadium,\n",
    "                    Target='ElasticQ',\n",
    "                    XMin=4.5,\n",
    "                    Xmax=6.25,\n",
    "                    NumberBins=500,\n",
    "                    OutputWorkspace='silicon_powder_q')"
   ]
  },
  {
   "cell_type": "code",
   "execution_count": null,
   "metadata": {
    "scrolled": true
   },
   "outputs": [],
   "source": [
    "fig, ax = plt.subplots(subplot_kw={'projection':'mantid'})\n",
    "ax.plot(mtd['silicon_powder_q'])"
   ]
  },
  {
   "cell_type": "markdown",
   "metadata": {},
   "source": [
    "#### Silicon powder to D spacing"
   ]
  },
  {
   "cell_type": "code",
   "execution_count": null,
   "metadata": {},
   "outputs": [],
   "source": [
    "WANDPowderReduction(InputWorkspace=data,\n",
    "                    CalibrationWorkspace=vanadium,\n",
    "                    Target='ElasticDSpacing',\n",
    "                    Xmax=5,\n",
    "                    NumberBins=1000,\n",
    "                    OutputWorkspace='silicon_powder_d_spacing')"
   ]
  },
  {
   "cell_type": "code",
   "execution_count": null,
   "metadata": {},
   "outputs": [],
   "source": [
    "fig, ax = plt.subplots(subplot_kw={'projection':'mantid'})\n",
    "ax.plot(mtd['silicon_powder_d_spacing'])"
   ]
  },
  {
   "cell_type": "markdown",
   "metadata": {},
   "source": [
    "### Loading and processing multiple file"
   ]
  },
  {
   "cell_type": "code",
   "execution_count": null,
   "metadata": {},
   "outputs": [],
   "source": [
    "multiple_data = LoadWAND(IPTS=7776, RunNumbers='26506,26507')"
   ]
  },
  {
   "cell_type": "markdown",
   "metadata": {},
   "source": [
    "or range"
   ]
  },
  {
   "cell_type": "code",
   "execution_count": null,
   "metadata": {},
   "outputs": [],
   "source": [
    "multiple_data = LoadWAND(IPTS=7776, RunNumbers='26506-26507')"
   ]
  },
  {
   "cell_type": "markdown",
   "metadata": {},
   "source": [
    "or filenames"
   ]
  },
  {
   "cell_type": "code",
   "execution_count": null,
   "metadata": {},
   "outputs": [],
   "source": [
    "multiple_data = LoadWAND('/HFIR/HB2C/IPTS-7776/nexus/HB2C_26506.nxs.h5,/HFIR/HB2C/IPTS-7776/nexus/HB2C_26507.nxs.h5')"
   ]
  },
  {
   "cell_type": "markdown",
   "metadata": {},
   "source": [
    "the data will be loaded into a group with name `multiple_data`"
   ]
  },
  {
   "cell_type": "code",
   "execution_count": null,
   "metadata": {},
   "outputs": [],
   "source": [
    "WANDPowderReduction(InputWorkspace=multiple_data,\n",
    "                    CalibrationWorkspace=vanadium,\n",
    "                    Target='Theta',\n",
    "                    NumberBins=1000,\n",
    "                    OutputWorkspace='multiple_output')"
   ]
  },
  {
   "cell_type": "code",
   "execution_count": null,
   "metadata": {},
   "outputs": [],
   "source": [
    "ws=mtd['multiple_output_1']"
   ]
  },
  {
   "cell_type": "code",
   "execution_count": null,
   "metadata": {},
   "outputs": [],
   "source": [
    "multiple_data[1]"
   ]
  },
  {
   "cell_type": "code",
   "execution_count": null,
   "metadata": {},
   "outputs": [],
   "source": [
    "fig, ax = plt.subplots(subplot_kw={'projection':'mantid'})\n",
    "ax.plot(mtd['multiple_output_1'],label=mtd['multiple_output_1'].name())\n",
    "ax.plot(mtd['multiple_output_2'],label=mtd['multiple_output_2'].name())\n",
    "ax.legend()"
   ]
  },
  {
   "cell_type": "markdown",
   "metadata": {},
   "source": [
    "## See also\n",
    "\n",
    "* [LoadWAND](http://docs.mantidproject.org/nightly/algorithms/LoadWAND.html)\n",
    "* [WANDPowderReduction](http://docs.mantidproject.org/nightly/algorithms/WANDPowderReduction.html)\n",
    "* [Introduction to Matplotlib in Mantid](http://docs.mantidproject.org/nightly/plotting/)\n",
    "* [mantid.plots](http://docs.mantidproject.org/nightly/api/python/mantid/plots/)"
   ]
  }
 ],
 "metadata": {
  "kernelspec": {
   "display_name": "Python 3",
   "language": "python",
   "name": "python3"
  },
  "language_info": {
   "codemirror_mode": {
    "name": "ipython",
    "version": 3
   },
   "file_extension": ".py",
   "mimetype": "text/x-python",
   "name": "python",
   "nbconvert_exporter": "python",
   "pygments_lexer": "ipython3",
   "version": "3.6.5"
  }
 },
 "nbformat": 4,
 "nbformat_minor": 2
}
